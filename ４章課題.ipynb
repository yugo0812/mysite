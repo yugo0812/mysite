{
 "cells": [
  {
   "cell_type": "markdown",
   "id": "b068e040",
   "metadata": {},
   "source": [
    "# 第４章　ニューラルネットワークの学習"
   ]
  },
  {
   "cell_type": "markdown",
   "id": "8dea7382",
   "metadata": {},
   "source": [
    "人の考えたアルゴリズムで判断を行う段階から一歩進み、人の考えた得微量（SIFT,HOG）をつかって機械学習（SVM,KNN）などを使う段階、そして最終的にはニュ＝ラルネットワークを用いた機械のみでの判断＝ディープラーニングを目標としている。　"
   ]
  },
  {
   "cell_type": "markdown",
   "id": "6df857f1",
   "metadata": {},
   "source": [
    "訓練データとテストーデータを用いて開発を行うのが一般的であるが、一つのデータを学習しすぎると過学習を起こしてしまい、あるデータセットにだけ過度に対応した状態になることがある。　　過学習を避けることは機械学習の重要な課題の一つだ。"
   ]
  },
  {
   "cell_type": "markdown",
   "id": "984df153",
   "metadata": {},
   "source": [
    "# 損失関数"
   ]
  },
  {
   "cell_type": "markdown",
   "id": "f533a219",
   "metadata": {},
   "source": [
    "ニューラルネットワークの学習では一つsの指標を用いて現在の状態を表す。　　　　　　　　　　\n",
    "そしてその指標を基準として最適な重みパラメータの捜索を行う。　　　　　　　　　　　　　　\n",
    "この関数のことを損失関数という。"
   ]
  },
  {
   "attachments": {
    "image.png": {
     "image/png": "[encoded data removed]"
    }
   },
   "cell_type": "markdown",
   "id": "003fc225",
   "metadata": {},
   "source": [
    "最も有名なものは２乗和誤差である。![image.png](attachment:image.png)"
   ]
  },
  {
   "cell_type": "markdown",
   "id": "c9aa76fb",
   "metadata": {},
   "source": [
    "この式ではニューラルネットワークの出力の正解となる教師データの各要素の差の２乗を計算し、その総和を求めている。この２乗和誤差をPythonで実装してみる。"
   ]
  },
  {
   "cell_type": "code",
   "execution_count": 4,
   "id": "277e60ac",
   "metadata": {},
   "outputs": [],
   "source": [
    "import numpy as np"
   ]
  },
  {
   "cell_type": "code",
   "execution_count": 5,
   "id": "e6861d35",
   "metadata": {},
   "outputs": [],
   "source": [
    "def sum_squared_error(y,t):\n",
    "    return 0.5 * np.sum((y-t)**2)"
   ]
  },
  {
   "cell_type": "code",
   "execution_count": 6,
   "id": "5df0578f",
   "metadata": {},
   "outputs": [],
   "source": [
    "t=[0,0,1,0,0,0,0,0,0,0]"
   ]
  },
  {
   "cell_type": "code",
   "execution_count": 7,
   "id": "5889a8df",
   "metadata": {},
   "outputs": [
    {
     "data": {
      "text/plain": [
       "0.09750000000000003"
      ]
     },
     "execution_count": 7,
     "metadata": {},
     "output_type": "execute_result"
    }
   ],
   "source": [
    "y=[0.1,0.05,0.6,0.0,0.05,0.1,0.0,0.1,0.0,0.0]\n",
    "sum_squared_error(np.array(y),np.array(t))"
   ]
  },
  {
   "cell_type": "code",
   "execution_count": 8,
   "id": "6d3b6197",
   "metadata": {},
   "outputs": [
    {
     "data": {
      "text/plain": [
       "0.5975"
      ]
     },
     "execution_count": 8,
     "metadata": {},
     "output_type": "execute_result"
    }
   ],
   "source": [
    "y=[0.1,0.05,0.1,0.0,0.05,0.1,0.0,0.6,0.0,0.0]\n",
    "sum_squared_error(np.array(y),np.array(t))"
   ]
  },
  {
   "cell_type": "markdown",
   "id": "ee5fc491",
   "metadata": {},
   "source": [
    "１つ目のほうが損失関数が小さくなっており、誤差が小さいことがわかる、らしい"
   ]
  },
  {
   "attachments": {
    "image.png": {
     "image/png": "[encoded data removed]"
    }
   },
   "cell_type": "markdown",
   "id": "ad4198a6",
   "metadata": {},
   "source": [
    "別の損失関数として、交差エントロピー誤差もよく用いられる。![image.png](attachment:image.png)"
   ]
  },
  {
   "cell_type": "markdown",
   "id": "9a8c2b18",
   "metadata": {},
   "source": [
    "xが１のときはyは０になり、ｘが０に近づくにつれてｙは小さくなっていく。　　　　　　　　　　そして出力が１のとき交差エントロピー誤差は０になる。　　　　　　　　　　　　　　　　　　　　とにかく実装してみる。"
   ]
  },
  {
   "cell_type": "code",
   "execution_count": 9,
   "id": "4a679704",
   "metadata": {},
   "outputs": [],
   "source": [
    "def cross_entropy_error(y,t):\n",
    "    delta=1e-7\n",
    "    return -np.sum(t*np.log(y+delta))"
   ]
  },
  {
   "cell_type": "code",
   "execution_count": 10,
   "id": "b76a4403",
   "metadata": {},
   "outputs": [
    {
     "data": {
      "text/plain": [
       "0.510825457099338"
      ]
     },
     "execution_count": 10,
     "metadata": {},
     "output_type": "execute_result"
    }
   ],
   "source": [
    "t=[0,0,1,0,0,0,0,0,0,0]\n",
    "y=[0.1,0.05,0.6,0.0,0.05,0.1,0.0,0.1,0.0,0.0]\n",
    "cross_entropy_error(np.array(y),np.array(t))"
   ]
  },
  {
   "cell_type": "code",
   "execution_count": 11,
   "id": "78a23639",
   "metadata": {},
   "outputs": [
    {
     "data": {
      "text/plain": [
       "2.302584092994546"
      ]
     },
     "execution_count": 11,
     "metadata": {},
     "output_type": "execute_result"
    }
   ],
   "source": [
    "y=[0.1,0.05,0.1,0.0,0.05,0.1,0.0,0.6,0.0,0.0]\n",
    "cross_entropy_error(np.array(y),np.array(t))"
   ]
  },
  {
   "cell_type": "markdown",
   "id": "c6315d50",
   "metadata": {},
   "source": [
    "数ある訓練データの中から一部を選び出して学習することをミニバッチ学習を言う。"
   ]
  },
  {
   "cell_type": "code",
   "execution_count": 12,
   "id": "cedcecb8",
   "metadata": {},
   "outputs": [],
   "source": [
    "from mnist import load_mnist"
   ]
  },
  {
   "cell_type": "code",
   "execution_count": 13,
   "id": "000415fc",
   "metadata": {},
   "outputs": [],
   "source": [
    "(x_train,t_train),(x_test,t_test)=\\\n",
    "   load_mnist(normalize=True,one_hot_label=True)"
   ]
  },
  {
   "cell_type": "code",
   "execution_count": 14,
   "id": "9b56d589",
   "metadata": {},
   "outputs": [
    {
     "name": "stdout",
     "output_type": "stream",
     "text": [
      "(60000, 784)\n",
      "(60000, 10)\n"
     ]
    }
   ],
   "source": [
    "print(x_train.shape)\n",
    "print(t_train.shape)"
   ]
  },
  {
   "cell_type": "code",
   "execution_count": 15,
   "id": "5ccd00b5",
   "metadata": {},
   "outputs": [
    {
     "data": {
      "text/plain": [
       "array([37755, 11220,  9484, 32828, 43278, 21220, 42595,  7362, 48561,\n",
       "       21802])"
      ]
     },
     "execution_count": 15,
     "metadata": {},
     "output_type": "execute_result"
    }
   ],
   "source": [
    "np.random.choice(60000,10)"
   ]
  },
  {
   "cell_type": "markdown",
   "id": "e363bfbe",
   "metadata": {},
   "source": [
    "# 数値微分"
   ]
  },
  {
   "attachments": {
    "image.png": {
     "image/png": "[encoded data removed]"
    }
   },
   "cell_type": "markdown",
   "id": "366521a7",
   "metadata": {},
   "source": [
    "微分とは、ある瞬間の変化の量を表したものである。数式で以下のように定義される。![image.png](attachment:image.png)"
   ]
  },
  {
   "cell_type": "markdown",
   "id": "fc090a8d",
   "metadata": {},
   "source": [
    "limh→0が限りなく０に近づいたh　　　　　　　　　　　　　　　　　　　　　　　　　　　　　　\n",
    "しかし、数値微分には誤差が含まれる。　　　　　　　　　　　　　　　　　　　　　　　　　　この誤差を減らす工夫として(x+h),(x-h)での関数fを差分とへらす工夫がある。　　　　　　　　　これを生かして数値微分（数値勾配）の実装を行う　　　　　　　　　　　　　　　　　　　　　　　　　　"
   ]
  },
  {
   "cell_type": "code",
   "execution_count": 16,
   "id": "f5af05a2",
   "metadata": {},
   "outputs": [],
   "source": [
    "def numerical_diff(f,x):\n",
    "    h=1e-4 #0.0001\n",
    "    return (f(x+h)-f(x-h))/(2*h)"
   ]
  },
  {
   "cell_type": "markdown",
   "id": "bd8b7401",
   "metadata": {},
   "source": [
    "偏微分　わからなかったので実装のみ"
   ]
  },
  {
   "cell_type": "code",
   "execution_count": 17,
   "id": "9958d6a9",
   "metadata": {},
   "outputs": [
    {
     "name": "stderr",
     "output_type": "stream",
     "text": [
      "C:\\Users\\apple\\AppData\\Local\\Temp/ipykernel_22572/676637264.py:11: MatplotlibDeprecationWarning: Axes3D(fig) adding itself to the figure is deprecated since 3.4. Pass the keyword argument auto_add_to_figure=False and use fig.add_axes(ax) to suppress this warning. The default value of auto_add_to_figure will change to False in mpl3.5 and True values will no longer work in 3.6.  This is consistent with other Axes classes.\n",
      "  ax = Axes3D(fig)\n"
     ]
    },
    {
     "data": {
      "image/png": "[encoded data removed]",
      "text/plain": [
       "<Figure size 432x288 with 1 Axes>"
      ]
     },
     "metadata": {
      "needs_background": "light"
     },
     "output_type": "display_data"
    }
   ],
   "source": [
    "from mpl_toolkits.mplot3d import Axes3D\n",
    "import matplotlib.pyplot as plt\n",
    "import numpy as np\n",
    "def func1(x, y):\n",
    "    return x**2 + y**2\n",
    "x = np.arange(-3.0, 3.0, 0.1)\n",
    "y = np.arange(-3.0, 3.0, 0.1)\n",
    "X, Y = np.meshgrid(x, y)\n",
    "Z = func1(X, Y)\n",
    "fig = plt.figure()\n",
    "ax = Axes3D(fig)\n",
    "ax.set_xlabel(\"x\")\n",
    "ax.set_ylabel(\"y\")\n",
    "ax.set_zlabel(\"f(x, y)\")\n",
    "ax.plot_wireframe(X, Y, Z)\n",
    "plt.show()"
   ]
  },
  {
   "cell_type": "markdown",
   "id": "04c4c164",
   "metadata": {},
   "source": [
    "すべての変数の偏微分をベクトルとしてまとめたものを勾配という。勾配は、例えば次のように実装できる"
   ]
  },
  {
   "cell_type": "code",
   "execution_count": 18,
   "id": "acf14471",
   "metadata": {},
   "outputs": [],
   "source": [
    "def numerical_gradient(f,x):\n",
    "    h=1e-4 #0.0001\n",
    "    grad=np.zeros_like(x)\n",
    "    \n",
    "    for idx in range(x.size):\n",
    "        tmp_val=x[idx]\n",
    "        x[idx]=tmp_val+h\n",
    "        fxh1=f(x)\n",
    "        \n",
    "        x[ids]=tmp_val-h\n",
    "        fxh2=f(x)\n",
    "        \n",
    "        grad[idx]=(fxh1-fxh2)/(2*h)\n",
    "        x[idx]=tmp_val\n",
    "        \n",
    "    return grad"
   ]
  },
  {
   "cell_type": "markdown",
   "id": "96d5a9c2",
   "metadata": {},
   "source": [
    "# 勾配法"
   ]
  },
  {
   "cell_type": "markdown",
   "id": "4b34239d",
   "metadata": {},
   "source": [
    "機械学習の問題の多くは学習に最適なパラメータを探索する。　　　　　　　　　　　　　　　　　ニューラルネットワークも同様に最適なパラメータ（重みとバイアス）を学習時に見つけなければいけないが、一般的に損失関数は複雑であるため、パラメータ空間の中からどこに最小値をとるか、普通は見当がつかない。　　　　　　　　　　　　　　　　　　　　　　　　　　　　　　　　　そこで勾配を上手く利用して関数の最小値を探そうというのが勾配法の概要である。"
   ]
  },
  {
   "cell_type": "code",
   "execution_count": 19,
   "id": "bbf8417d",
   "metadata": {},
   "outputs": [],
   "source": [
    "import numpy as np"
   ]
  },
  {
   "cell_type": "code",
   "execution_count": 20,
   "id": "af290669",
   "metadata": {},
   "outputs": [],
   "source": [
    "def gradient_descent(f,init_x,lr=0.01,step_num=100):\n",
    "    x=init_x\n",
    "    \n",
    "    for i in range(step_num):\n",
    "        grad=numerical_gradient(f,x)"
   ]
  },
  {
   "cell_type": "markdown",
   "id": "e584c029",
   "metadata": {},
   "source": [
    "学習率が大きすぎると大きな値へと発散してしまうし、逆に小さすぎるとほとんど更新されずに終わってしまう。適切な学習率の設定が重要である。"
   ]
  },
  {
   "cell_type": "markdown",
   "id": "4df6261a",
   "metadata": {},
   "source": [
    "ニュ=ラルネットワークに対する勾配"
   ]
  },
  {
   "cell_type": "markdown",
   "id": "ea1ec2ac",
   "metadata": {},
   "source": [
    "重みパラメータに関する損失関数の勾配をニューラルネットワークでも行う。                   関数を用いて勾配を求める実装を行う"
   ]
  },
  {
   "cell_type": "code",
   "execution_count": 21,
   "id": "1970f277",
   "metadata": {},
   "outputs": [],
   "source": [
    "import sys, os\n",
    "sys.path.append(os.pardir)\n",
    "import numpy as np\n",
    "from common.functions import softmax, cross_entropy_error\n",
    "from common.gradient import numerical_gradient\n",
    "\n",
    "class simpleNet:\n",
    "    def __init__(self):\n",
    "        self.W = np.random.randn(2, 3) #ガウス分布で初期化\n",
    "        \n",
    "    def predict(self, x):\n",
    "        return np.dot(x, self.W)\n",
    "    \n",
    "    def loss(self, x, t):\n",
    "        z = self.predict(x)\n",
    "        y = softmax(z)\n",
    "        loss = cross_entropy_error(y, t)\n",
    "        \n",
    "        return loss"
   ]
  },
  {
   "cell_type": "code",
   "execution_count": 22,
   "id": "8db095fe",
   "metadata": {},
   "outputs": [
    {
     "name": "stdout",
     "output_type": "stream",
     "text": [
      "[[ 0.53341427  0.23214859 -0.79215841]\n",
      " [ 0.3386174   0.00140782 -0.5756329 ]]\n",
      "[ 0.62480422  0.14055619 -0.99336466]\n",
      "0\n"
     ]
    },
    {
     "data": {
      "text/plain": [
       "2.213934797021353"
      ]
     },
     "execution_count": 22,
     "metadata": {},
     "output_type": "execute_result"
    }
   ],
   "source": [
    "net = simpleNet()\n",
    "print(net.W)\n",
    "x = np.array([0.6, 0.9])\n",
    "p = net.predict(x)\n",
    "print(p)\n",
    "\n",
    "print(np.argmax(p))\n",
    "\n",
    "t = np.array([0,0,1])\n",
    "net.loss(x, t)"
   ]
  },
  {
   "cell_type": "code",
   "execution_count": 23,
   "id": "1ddbe85e",
   "metadata": {},
   "outputs": [
    {
     "name": "stdout",
     "output_type": "stream",
     "text": [
      "[[ 0.33068356  0.2037541  -0.53443766]\n",
      " [ 0.49602534  0.30563115 -0.80165649]]\n"
     ]
    }
   ],
   "source": [
    "def f(W):\n",
    "    return net.loss(x, t)\n",
    "\n",
    "dw = numerical_gradient(f, net.W)\n",
    "print(dw)"
   ]
  },
  {
   "cell_type": "markdown",
   "id": "a0c33d62",
   "metadata": {},
   "source": [
    "これで勾配を計算することができた。"
   ]
  },
  {
   "cell_type": "markdown",
   "id": "3a59a8dc",
   "metadata": {},
   "source": [
    "# 学習アルゴリズムの実装"
   ]
  },
  {
   "cell_type": "markdown",
   "id": "484ca1c5",
   "metadata": {},
   "source": [
    "ニューラルネットワークの学習に関する基礎的な知識はこれで出揃った。　　　　　　　　　　　　「損失関数」「ミニバッチ」「勾配」「勾配降下法」だ。　　　　　　　　　　　　　　　　　　　そこで復習を兼ねてニューラルネットワークの学習の手順を確認していく。"
   ]
  },
  {
   "cell_type": "markdown",
   "id": "24b9247a",
   "metadata": {},
   "source": [
    "前提 　　　　　　　　　　　　　　　　　　　　　　　　　　　　　　　　　　　　　　　　　　　　ニューラルネットワークは適応可能な重みとバイアスがあり、この重みとバイアスを訓練データに適応するように調整することを「学習」と呼ぶ。\n",
    "　　　　　　　　　　　　　　　　　　　　　　　　　　　　　　　　　　　　　　　　　　　　\n",
    "ステップ１（ミニバッチ）　　　　　　　　　　　　　　　　　　　　　　　　　　　　　　　　　訓練データの中からランダムに一分のデータを選び出す。ここではそのミニバッチの損失関数の値を減らすことを目的とする。\n",
    "\n",
    "ステップ２（勾配の算出）\n",
    "ミニバッチの損失関数を減らすために、各重みパラメータの勾配を求める。　　　　　　　　　　　勾配は損失関数の値を最も減らす方向を示す。\n",
    "\n",
    "ステップ３（パラメータの更新）\n",
    "重みパラメータを勾配方向に微小量更新する。\n",
    "\n",
    "ステップ４\n",
    "繰り返す\n",
    "\n",
    "このような勾配法のことをSGDという。\n",
    "ここで二層ニューラルネットワークを対象にMNISTデータセットを用いて学習を行う。"
   ]
  },
  {
   "cell_type": "code",
   "execution_count": 24,
   "id": "c333ef02",
   "metadata": {},
   "outputs": [],
   "source": [
    "import sys, os\n",
    "sys.path.append(os.pardir)\n",
    "from common.functions import *\n",
    "from common.gradient import numerical_gradient\n",
    "import numpy as np\n",
    "\n",
    "\n",
    "class TwoLayerNet:\n",
    "\n",
    "    def __init__(self, input_size, hidden_size, output_size, weight_init_std=0.01):\n",
    "        # 重みの初期化\n",
    "        self.params = {}\n",
    "        self.params['W1'] = weight_init_std * np.random.randn(input_size, hidden_size)\n",
    "        self.params['b1'] = np.zeros(hidden_size)\n",
    "        self.params['W2'] = weight_init_std * np.random.randn(hidden_size, output_size)\n",
    "        self.params['b2'] = np.zeros(output_size)\n",
    "\n",
    "    def predict(self, x):\n",
    "        W1, W2 = self.params['W1'], self.params['W2']\n",
    "        b1, b2 = self.params['b1'], self.params['b2']\n",
    "    \n",
    "        a1 = np.dot(x, W1) + b1\n",
    "        z1 = sigmoid(a1)\n",
    "        a2 = np.dot(z1, W2) + b2\n",
    "        y = softmax(a2)\n",
    "        \n",
    "        return y\n",
    "        \n",
    "    # x:入力データ, t:教師データ\n",
    "    def loss(self, x, t):\n",
    "        y = self.predict(x)\n",
    "        \n",
    "        return cross_entropy_error(y, t)\n",
    "    \n",
    "    def accuracy(self, x, t):\n",
    "        y = self.predict(x)\n",
    "        y = np.argmax(y, axis=1)\n",
    "        t = np.argmax(t, axis=1)\n",
    "        \n",
    "        accuracy = np.sum(y == t) / float(x.shape[0])\n",
    "        return accuracy\n",
    "        \n",
    "    # x:入力データ, t:教師データ\n",
    "    def numerical_gradient(self, x, t):\n",
    "        loss_W = lambda W: self.loss(x, t)\n",
    "        \n",
    "        grads = {}\n",
    "        grads['W1'] = numerical_gradient(loss_W, self.params['W1'])\n",
    "        grads['b1'] = numerical_gradient(loss_W, self.params['b1'])\n",
    "        grads['W2'] = numerical_gradient(loss_W, self.params['W2'])\n",
    "        grads['b2'] = numerical_gradient(loss_W, self.params['b2'])\n",
    "        \n",
    "        return grads"
   ]
  },
  {
   "cell_type": "code",
   "execution_count": 25,
   "id": "2142b6b3",
   "metadata": {},
   "outputs": [
    {
     "name": "stdout",
     "output_type": "stream",
     "text": [
      "imported librarys\n",
      "Data loaded.\n",
      "loop start\n",
      "batched\n",
      "gradiented.\n",
      "1loop(s) ended\n",
      "batched\n",
      "gradiented.\n",
      "2loop(s) ended\n",
      "batched\n",
      "gradiented.\n",
      "3loop(s) ended\n",
      "batched\n",
      "gradiented.\n",
      "4loop(s) ended\n",
      "batched\n",
      "gradiented.\n",
      "5loop(s) ended\n",
      "batched\n",
      "gradiented.\n",
      "6loop(s) ended\n",
      "batched\n",
      "gradiented.\n",
      "7loop(s) ended\n",
      "batched\n",
      "gradiented.\n",
      "8loop(s) ended\n",
      "batched\n",
      "gradiented.\n",
      "9loop(s) ended\n",
      "batched\n",
      "gradiented.\n",
      "10loop(s) ended\n",
      "batched\n",
      "gradiented.\n",
      "11loop(s) ended\n",
      "batched\n",
      "gradiented.\n",
      "12loop(s) ended\n",
      "batched\n",
      "gradiented.\n",
      "13loop(s) ended\n",
      "batched\n",
      "gradiented.\n",
      "14loop(s) ended\n",
      "batched\n",
      "gradiented.\n",
      "15loop(s) ended\n",
      "batched\n",
      "gradiented.\n",
      "16loop(s) ended\n",
      "batched\n",
      "gradiented.\n",
      "17loop(s) ended\n",
      "batched\n",
      "gradiented.\n",
      "18loop(s) ended\n",
      "batched\n",
      "gradiented.\n",
      "19loop(s) ended\n",
      "batched\n",
      "gradiented.\n",
      "20loop(s) ended\n",
      "batched\n",
      "gradiented.\n",
      "21loop(s) ended\n",
      "batched\n",
      "gradiented.\n",
      "22loop(s) ended\n",
      "batched\n",
      "gradiented.\n",
      "23loop(s) ended\n",
      "batched\n",
      "gradiented.\n",
      "24loop(s) ended\n",
      "batched\n",
      "gradiented.\n",
      "25loop(s) ended\n",
      "batched\n",
      "gradiented.\n",
      "26loop(s) ended\n",
      "batched\n",
      "gradiented.\n",
      "27loop(s) ended\n",
      "batched\n",
      "gradiented.\n",
      "28loop(s) ended\n",
      "batched\n",
      "gradiented.\n",
      "29loop(s) ended\n",
      "batched\n",
      "gradiented.\n",
      "30loop(s) ended\n",
      "batched\n",
      "gradiented.\n",
      "31loop(s) ended\n",
      "batched\n",
      "gradiented.\n",
      "32loop(s) ended\n",
      "batched\n",
      "gradiented.\n",
      "33loop(s) ended\n",
      "batched\n",
      "gradiented.\n",
      "34loop(s) ended\n",
      "batched\n",
      "gradiented.\n",
      "35loop(s) ended\n",
      "batched\n",
      "gradiented.\n",
      "36loop(s) ended\n",
      "batched\n",
      "gradiented.\n",
      "37loop(s) ended\n",
      "batched\n",
      "gradiented.\n",
      "38loop(s) ended\n",
      "batched\n",
      "gradiented.\n",
      "39loop(s) ended\n",
      "batched\n",
      "gradiented.\n",
      "40loop(s) ended\n",
      "batched\n",
      "gradiented.\n",
      "41loop(s) ended\n",
      "batched\n",
      "gradiented.\n",
      "42loop(s) ended\n",
      "batched\n",
      "gradiented.\n",
      "43loop(s) ended\n",
      "batched\n",
      "gradiented.\n",
      "44loop(s) ended\n",
      "batched\n",
      "gradiented.\n",
      "45loop(s) ended\n",
      "batched\n",
      "gradiented.\n",
      "46loop(s) ended\n",
      "batched\n",
      "gradiented.\n",
      "47loop(s) ended\n",
      "batched\n",
      "gradiented.\n",
      "48loop(s) ended\n",
      "batched\n",
      "gradiented.\n",
      "49loop(s) ended\n",
      "batched\n",
      "gradiented.\n",
      "50loop(s) ended\n",
      "batched\n",
      "gradiented.\n",
      "51loop(s) ended\n",
      "batched\n",
      "gradiented.\n",
      "52loop(s) ended\n",
      "batched\n",
      "gradiented.\n",
      "53loop(s) ended\n",
      "batched\n",
      "gradiented.\n",
      "54loop(s) ended\n",
      "batched\n",
      "gradiented.\n",
      "55loop(s) ended\n",
      "batched\n",
      "gradiented.\n",
      "56loop(s) ended\n",
      "batched\n",
      "gradiented.\n",
      "57loop(s) ended\n",
      "batched\n",
      "gradiented.\n",
      "58loop(s) ended\n",
      "batched\n",
      "gradiented.\n",
      "59loop(s) ended\n",
      "batched\n",
      "gradiented.\n",
      "60loop(s) ended\n",
      "batched\n",
      "gradiented.\n",
      "61loop(s) ended\n",
      "batched\n",
      "gradiented.\n",
      "62loop(s) ended\n",
      "batched\n",
      "gradiented.\n",
      "63loop(s) ended\n",
      "batched\n",
      "gradiented.\n",
      "64loop(s) ended\n",
      "batched\n",
      "gradiented.\n",
      "65loop(s) ended\n",
      "batched\n",
      "gradiented.\n",
      "66loop(s) ended\n",
      "batched\n",
      "gradiented.\n",
      "67loop(s) ended\n",
      "batched\n",
      "gradiented.\n",
      "68loop(s) ended\n",
      "batched\n",
      "gradiented.\n",
      "69loop(s) ended\n",
      "batched\n",
      "gradiented.\n",
      "70loop(s) ended\n",
      "batched\n",
      "gradiented.\n",
      "71loop(s) ended\n",
      "batched\n",
      "gradiented.\n",
      "72loop(s) ended\n",
      "batched\n",
      "gradiented.\n",
      "73loop(s) ended\n",
      "batched\n",
      "gradiented.\n",
      "74loop(s) ended\n",
      "batched\n",
      "gradiented.\n",
      "75loop(s) ended\n",
      "batched\n",
      "gradiented.\n",
      "76loop(s) ended\n",
      "batched\n",
      "gradiented.\n",
      "77loop(s) ended\n",
      "batched\n",
      "gradiented.\n",
      "78loop(s) ended\n",
      "batched\n",
      "gradiented.\n",
      "79loop(s) ended\n",
      "batched\n",
      "gradiented.\n",
      "80loop(s) ended\n",
      "batched\n",
      "gradiented.\n",
      "81loop(s) ended\n",
      "batched\n",
      "gradiented.\n",
      "82loop(s) ended\n",
      "batched\n",
      "gradiented.\n",
      "83loop(s) ended\n",
      "batched\n",
      "gradiented.\n",
      "84loop(s) ended\n",
      "batched\n",
      "gradiented.\n",
      "85loop(s) ended\n",
      "batched\n",
      "gradiented.\n",
      "86loop(s) ended\n",
      "batched\n",
      "gradiented.\n",
      "87loop(s) ended\n",
      "batched\n",
      "gradiented.\n",
      "88loop(s) ended\n",
      "batched\n",
      "gradiented.\n",
      "89loop(s) ended\n",
      "batched\n",
      "gradiented.\n",
      "90loop(s) ended\n",
      "batched\n",
      "gradiented.\n",
      "91loop(s) ended\n",
      "batched\n",
      "gradiented.\n",
      "92loop(s) ended\n",
      "batched\n",
      "gradiented.\n",
      "93loop(s) ended\n",
      "batched\n",
      "gradiented.\n",
      "94loop(s) ended\n",
      "batched\n",
      "gradiented.\n",
      "95loop(s) ended\n",
      "batched\n",
      "gradiented.\n",
      "96loop(s) ended\n",
      "batched\n",
      "gradiented.\n",
      "97loop(s) ended\n",
      "batched\n",
      "gradiented.\n",
      "98loop(s) ended\n",
      "batched\n",
      "gradiented.\n",
      "99loop(s) ended\n",
      "batched\n",
      "gradiented.\n",
      "100loop(s) ended\n"
     ]
    },
    {
     "data": {
      "image/png": "[encoded data removed]",
      "text/plain": [
       "<Figure size 432x288 with 1 Axes>"
      ]
     },
     "metadata": {
      "needs_background": "light"
     },
     "output_type": "display_data"
    }
   ],
   "source": [
    "import sys, os\n",
    "sys.path.append(os.pardir)  # 親ディレクトリのファイルをインポートするための設定\n",
    "import numpy as np\n",
    "import matplotlib.pyplot as plt\n",
    "print(\"imported librarys\")\n",
    "from mnist import load_mnist\n",
    "\n",
    "# データの読み込み\n",
    "(x_train, t_train), (x_test, t_test) = load_mnist(normalize=True, one_hot_label=True)\n",
    "\n",
    "print(\"Data loaded.\")\n",
    "\n",
    "train_loss_list = []\n",
    "\n",
    "iters_num = 100  # ハイパーパラメータ\n",
    "train_size = x_train.shape[0]\n",
    "batch_size = 100\n",
    "learning_rate = 0.1\n",
    "\n",
    "network = TwoLayerNet(input_size=784, hidden_size=50, output_size=10)\n",
    "\n",
    "print(\"loop start\")\n",
    "for i in range(iters_num):\n",
    "    batch_mask = np.random.choice(train_size, batch_size)\n",
    "    x_batch = x_train[batch_mask]\n",
    "    t_batch = t_train[batch_mask]\n",
    "    print(\"batched\")\n",
    "    # 勾配の計算\n",
    "    grad = network.numerical_gradient(x_batch, t_batch)\n",
    "    print(\"gradiented.\")\n",
    "    # パラメータの更新\n",
    "    for key in ('W1', 'b1', 'W2', 'b2'):\n",
    "        network.params[key] -= learning_rate * grad[key]\n",
    "    \n",
    "    #学習記録の更新\n",
    "    loss = network.loss(x_batch, t_batch)\n",
    "    train_loss_list.append(loss)\n",
    "    print(str(i+1) + \"loop(s) ended\")\n",
    "# グラフの描画\n",
    "x = np.arange(iters_num)\n",
    "plt.plot(x, train_loss_list, label='train loss')\n",
    "plt.xlabel(\"iteration\")\n",
    "plt.ylabel(\"loss\")\n",
    "plt.ylim(0, 9)\n",
    "plt.show()"
   ]
  },
  {
   "cell_type": "code",
   "execution_count": null,
   "id": "5ae4287e",
   "metadata": {},
   "outputs": [],
   "source": []
  }
 ],
 "metadata": {
  "kernelspec": {
   "display_name": "Python 3 (ipykernel)",
   "language": "python",
   "name": "python3"
  },
  "language_info": {
   "codemirror_mode": {
    "name": "ipython",
    "version": 3
   },
   "file_extension": ".py",
   "mimetype": "text/x-python",
   "name": "python",
   "nbconvert_exporter": "python",
   "pygments_lexer": "ipython3",
   "version": "3.9.7"
  }
 },
 "nbformat": 4,
 "nbformat_minor": 5
}
