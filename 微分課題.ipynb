{
 "cells": [
  {
   "cell_type": "code",
   "execution_count": null,
   "id": "9f02fcb3",
   "metadata": {},
   "outputs": [],
   "source": []
  },
  {
   "cell_type": "code",
   "execution_count": 9,
   "id": "fbc3cb46",
   "metadata": {},
   "outputs": [],
   "source": [
    "import math\n",
    "import numpy as np \n",
    "import matplotlib.pyplot as plt\n",
    "#正規分布を定義\n",
    "\n",
    "def normal_distribution(x,mu,sigma):\n",
    "      Y = 1/np.sqrt(2*np.pi*sigma**2)*np.exp(-(x-mu)**2/(2*sigma**2))\n",
    "      return Y"
   ]
  },
  {
   "cell_type": "code",
   "execution_count": 13,
   "id": "ee1b03e2",
   "metadata": {},
   "outputs": [
    {
     "data": {
      "image/png": "[encoded data removed]",
      "text/plain": [
       "<Figure size 432x288 with 1 Axes>"
      ]
     },
     "metadata": {
      "needs_background": "light"
     },
     "output_type": "display_data"
    }
   ],
   "source": [
    "#正規分布のパラメータ設定\n",
    "mu = 116.6\n",
    "sigma = 4.8\n",
    "\n",
    "#描画パラメータの設定\n",
    "X_min = 80\n",
    "X_max = 150\n",
    "X_num = 100\n",
    "\n",
    "#正規分布の計算\n",
    "X = np.linspace(X_min,X_max,X_num)\n",
    "Y = normal_distribution(X,mu,sigma)\n",
    "\n",
    "#正規分布の描画\n",
    "plt.plot(X,Y,color=\"k\")\n",
    "plt.show()\n",
    "%matplotlib inline"
   ]
  },
  {
   "cell_type": "code",
   "execution_count": 16,
   "id": "eb6ec840",
   "metadata": {},
   "outputs": [
    {
     "name": "stdout",
     "output_type": "stream",
     "text": [
      "確率: 0.1653959487393015\n"
     ]
    }
   ],
   "source": [
    "#積分範囲の設定\n",
    "X_min = 115\n",
    "X_max = 117\n",
    "x_num = 100\n",
    "\n",
    "#積分範囲における製k分布の値の計算\n",
    "X = np.linspace(X_min,X_max,X_num)\n",
    "Y = normal_distribution(X,mu,sigma)\n",
    "\n",
    "#積分の計算\n",
    "dx = (X_max-X_min)/(X_num-1)\n",
    "prob = 0\n",
    "for i in range(X_num):\n",
    "    Y = normal_distribution(X[i],mu,sigma)\n",
    "    prob += Y*dx\n",
    "print(\"確率:\",prob)"
   ]
  },
  {
   "cell_type": "code",
   "execution_count": null,
   "id": "97de8d3e",
   "metadata": {},
   "outputs": [],
   "source": []
  }
 ],
 "metadata": {
  "kernelspec": {
   "display_name": "Python 3 (ipykernel)",
   "language": "python",
   "name": "python3"
  },
  "language_info": {
   "codemirror_mode": {
    "name": "ipython",
    "version": 3
   },
   "file_extension": ".py",
   "mimetype": "text/x-python",
   "name": "python",
   "nbconvert_exporter": "python",
   "pygments_lexer": "ipython3",
   "version": "3.9.7"
  }
 },
 "nbformat": 4,
 "nbformat_minor": 5
}
