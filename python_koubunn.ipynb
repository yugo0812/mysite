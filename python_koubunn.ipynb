{
 "cells": [
  {
   "cell_type": "markdown",
   "id": "c475c912",
   "metadata": {},
   "source": [
    "Python基本構文"
   ]
  },
  {
   "cell_type": "markdown",
   "id": "75fff6fa",
   "metadata": {},
   "source": [
    "コメント"
   ]
  },
  {
   "cell_type": "markdown",
   "id": "3329da4c",
   "metadata": {},
   "source": [
    "行頭に＃を書くことで行末まではコメントと見なされ、無視される。\n",
    "積極的に活用して読みやすいコードを作ろう。"
   ]
  },
  {
   "cell_type": "code",
   "execution_count": 1,
   "id": "1d882033",
   "metadata": {},
   "outputs": [
    {
     "name": "stdout",
     "output_type": "stream",
     "text": [
      "Hello\n"
     ]
    }
   ],
   "source": [
    "print('Hello')\n",
    "#何を書いてもバレません"
   ]
  },
  {
   "cell_type": "markdown",
   "id": "6f43f542",
   "metadata": {},
   "source": [
    "文字列"
   ]
  },
  {
   "cell_type": "markdown",
   "id": "ef81c280",
   "metadata": {},
   "source": [
    "文字列はシングルもしくはダブルのクォーテーションで囲むことで文字として認識されます。"
   ]
  },
  {
   "cell_type": "markdown",
   "id": "110139b2",
   "metadata": {},
   "source": [
    "数値"
   ]
  },
  {
   "cell_type": "markdown",
   "id": "b89da7be",
   "metadata": {},
   "source": [
    "文字列と異なり、クォーテーションで囲む必要がない。\n",
    "また+,-,/,*などを用いて四則演算を行うことが出来る"
   ]
  },
  {
   "cell_type": "code",
   "execution_count": 2,
   "id": "93aa0084",
   "metadata": {},
   "outputs": [
    {
     "name": "stdout",
     "output_type": "stream",
     "text": [
      "10\n",
      "15\n",
      "5\n",
      "50\n",
      "2.0\n"
     ]
    }
   ],
   "source": [
    "print(10)\n",
    "print(10+5)\n",
    "print(10-5)\n",
    "print(10*5)\n",
    "print(10/5)"
   ]
  },
  {
   "cell_type": "code",
   "execution_count": 4,
   "id": "7aa61acb",
   "metadata": {},
   "outputs": [
    {
     "name": "stdout",
     "output_type": "stream",
     "text": [
      "15\n",
      "10 + 5\n"
     ]
    }
   ],
   "source": [
    "print(10 + 5)\n",
    "print('10 + 5')#文字列との区別をつけよう！"
   ]
  },
  {
   "cell_type": "markdown",
   "id": "54c744ac",
   "metadata": {},
   "source": [
    "変数"
   ]
  },
  {
   "cell_type": "markdown",
   "id": "d4c0e652",
   "metadata": {},
   "source": [
    "値に名前をつけて便利に使っちゃおう"
   ]
  },
  {
   "cell_type": "code",
   "execution_count": 8,
   "id": "eae06420",
   "metadata": {},
   "outputs": [
    {
     "name": "stdout",
     "output_type": "stream",
     "text": [
      "apple\n"
     ]
    }
   ],
   "source": [
    "kajitsu='apple'#とってもジューシー！\n",
    "print(kajitsu)"
   ]
  },
  {
   "cell_type": "markdown",
   "id": "b356a9dd",
   "metadata": {},
   "source": [
    "例えばこんな事ができる"
   ]
  },
  {
   "cell_type": "code",
   "execution_count": 9,
   "id": "42bd0113",
   "metadata": {},
   "outputs": [
    {
     "name": "stdout",
     "output_type": "stream",
     "text": [
      "811\n",
      "90.0\n"
     ]
    }
   ],
   "source": [
    "x=810#数字はクォーテーションがいらないのです\n",
    "print(x+1)\n",
    "print(x/9)"
   ]
  },
  {
   "cell_type": "markdown",
   "id": "33490a21",
   "metadata": {},
   "source": [
    "定数"
   ]
  },
  {
   "cell_type": "code",
   "execution_count": null,
   "id": "da0cf378",
   "metadata": {},
   "outputs": [],
   "source": []
  }
 ],
 "metadata": {
  "kernelspec": {
   "display_name": "Python 3 (ipykernel)",
   "language": "python",
   "name": "python3"
  },
  "language_info": {
   "codemirror_mode": {
    "name": "ipython",
    "version": 3
   },
   "file_extension": ".py",
   "mimetype": "text/x-python",
   "name": "python",
   "nbconvert_exporter": "python",
   "pygments_lexer": "ipython3",
   "version": "3.9.7"
  }
 },
 "nbformat": 4,
 "nbformat_minor": 5
}
