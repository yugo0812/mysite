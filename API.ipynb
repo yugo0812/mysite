{
 "cells": [
  {
   "cell_type": "code",
   "execution_count": 13,
   "id": "1fa14d17",
   "metadata": {},
   "outputs": [],
   "source": [
    "import requests\n",
    "headers={'X-Api-Key':'d2cb5c5e71c64baca7479352aaf8ab6c'}"
   ]
  },
  {
   "cell_type": "code",
   "execution_count": 18,
   "id": "0d14b33e",
   "metadata": {},
   "outputs": [],
   "source": [
    "url = 'https://newsapi.org/v2/everything'\n",
    "params = {\n",
    "     'q': 'コロナ　AND　変異株　',\n",
    "    'sortBy': 'publishedAt',\n",
    "    'pageSize': 20\n",
    "}"
   ]
  },
  {
   "cell_type": "code",
   "execution_count": 19,
   "id": "fa30271d",
   "metadata": {},
   "outputs": [
    {
     "name": "stdout",
     "output_type": "stream",
     "text": [
      "<Response [200]>\n"
     ]
    }
   ],
   "source": [
    "response = requests.get(url, headers=headers, params=params)\n",
    "print(response)"
   ]
  },
  {
   "cell_type": "code",
   "execution_count": 21,
   "id": "b2e0f21f",
   "metadata": {},
   "outputs": [
    {
     "name": "stdout",
     "output_type": "stream",
     "text": [
      "{'status': 'ok', 'totalResults': 52, 'articles': [{'source': {'id': None, 'name': 'Www.2nn.jp'}, 'author': '影のたけし軍団 ★', 'title': '【研究】コロナへの感染によって体の老化が加速されることがわかった', 'description': '新型コロナウイルスのオミクロン株(BA.1)の新しい変異が次々と見つかっている。これまで知られていた「BA.2」のほか、南アフリカで見つかった「BA.4」と「BA.5」、米国で見つかった「BA.2.12.1」などが拡散している...https://asahi.5ch.net/test/read.cgi/newsplus/1652071321/', 'url': 'https://www.2nn.jp/newsplus/1652071321/', 'urlToImage': 'http://www.2nn.jp/img/newsplus/1652071321.jpg', 'publishedAt': '2022-05-09T04:42:01Z', 'content': '(BA.1)BA.2BA.4BA.5BA.2.12.1BA.1BA.2'}, {'source': {'id': None, 'name': 'Cocolog-nifty.com'}, 'author': '植草一秀', 'title': '日本政治の最大危機', 'description': '大型連休が終わり、政治エネルギーは７月１０日参院選に向かう。\\n通常国会は６月１５日に閉幕。\\n６月２２日に参院選が公示される。\\n米国のバイデン大統領は５月２０日に韓国を訪問。\\n２１日にソウルで韓国の尹錫悦（ユン・ソクヨル）次期大統領と初の首脳会談に臨む見通し。\\nその後、２２日に訪日し、２３日に岸田首相と会談。\\n２４日には日本でクワッド（米日豪印）首脳会談が開催される。\\n日本の参院選日程を踏まえた日程設定である。\\n衆院総選挙は昨年１０月に実施された。\\n参院選が実施されると衆院解散がなければ国政選挙に３年の空白が生まれ…', 'url': 'http://uekusak.cocolog-nifty.com/blog/2022/05/post-4b25ec.html', 'urlToImage': 'https://uekusak.cocolog-nifty.com/blog/images/516txuu715l_sy291_bo1204203200_ql40_ml2_.jpg', 'publishedAt': '2022-05-09T03:00:00Z', 'content': '大型連休が終わり、政治エネルギーは７月１０日参院選に向かう。通常国会は６月１５日に閉幕。６月２２日に参院選が公示される。米国のバイデン大統領は５月２０日に韓国を訪問。２１日にソウルで韓国の尹錫悦（ユン・ソクヨル）次期大統領と初の首脳会談に臨む見通し。その後、２２日に訪日し、２３日に岸田首相と会談。２４日には日本でクワッド（米日豪印）首脳会談が開催される。日本の参院選日程を踏まえた日程設定である。… [+2720 chars]'}, {'source': {'id': None, 'name': 'Cocolog-nifty.com'}, 'author': 'NightWalker', 'title': '早期リタイアするタイミングを雇用保険の観点から考えておく', 'description': '日経\\u3000田村正之さん。\\n\\nシニア、退職日が手取り左右\\u30001日違いで...', 'url': 'http://nightwalker.cocolog-nifty.com/money/2022/05/post-b0c05c.html', 'urlToImage': 'https://nightwalker.cocolog-nifty.com/money/images/20220509_20220508235601.png', 'publishedAt': '2022-05-08T15:01:00Z', 'content': '(adsbygoogle = window.adsbygoogle || []).push({ google_ad_client: \"ca-pub-7186741224709017\", enable_page_level_ads: true });(adsbygoogle = window.adsbygoogle || []).push({});日経\\u3000田村正之さん。シニア、退職日が手取り左右\\u30001… [+16288 chars]'}, {'source': {'id': None, 'name': 'Goo.ne.jp'}, 'author': None, 'title': '【まだ間に合う！】大阪カジノの是非を問う大阪府民の住民投票は５月２５日まで。署名受任者になってください！大阪を愛する人々はバクチで大儲けなんて望んでいない。大阪カジノにＮＯ！の意思表示を。', 'description': 'これからもぜひ一日一回、上下ともクリックしてくださると大変うれしいです！！！\\n\\n\\nにほんブログ村\\n社会・経済ニュースランキング\\nAmazon\\u3000社会・政治・法律\\nAmazon\\u3000Kindle\\u3000ベストセラー\\n\\n\\xa0\\n\\xa0\\n\\u3000維新の会創設者の橋下徹氏は大阪府知事時代に、かつて大阪ほどわい雑な町はない、カジノだのなんだのわい雑なものはすべて大阪が引き受けると言い切ったので、当時お隣の兵庫県に住んでいたわたくしは、彼は大阪を愛する気持ちがこれっぽっちもないんだなと思ったものでした。\\n\\n大阪に対する「愛」がない橋下市長が安倍首相に…', 'url': 'https://blog.goo.ne.jp/raymiyatake/e/8063ff6b6ad96bf5bdc21ca842e8bdd5', 'urlToImage': 'https://blogimg.goo.ne.jp/user_image/6c/7a/ae507a28ef32673843fd2b31c6999ce8.png', 'publishedAt': '2022-05-08T07:11:30Z', 'content': ''}, {'source': {'id': None, 'name': 'Cocolog-nifty.com'}, 'author': 'NightWalker', 'title': 'つみたてNISA対象インデックファンドの勝ち組運用会社\\u30002022/5', 'description': 'つみたてNISA以後、はっきりしたのがインデックスファンド市場...', 'url': 'http://nightwalker.cocolog-nifty.com/money/2022/05/post-688526.html', 'urlToImage': 'https://nightwalker.cocolog-nifty.com/money/images/20220508.png', 'publishedAt': '2022-05-07T15:01:00Z', 'content': '(adsbygoogle = window.adsbygoogle || []).push({ google_ad_client: \"ca-pub-7186741224709017\", enable_page_level_ads: true });(adsbygoogle = window.adsbygoogle || []).push({});つみたてNISA以後、はっきりしたのがインデックス… [+16516 chars]'}, {'source': {'id': None, 'name': 'Cocolog-nifty.com'}, 'author': 'NightWalker', 'title': '金融教育で大切なことってなんだろう、という話。', 'description': '日経\\u3000マネーのまなびさん。\\n\\n投資や資産形成…\\u3000お金のプロ3人...', 'url': 'http://nightwalker.cocolog-nifty.com/money/2022/05/post-568534.html', 'urlToImage': 'http://nightwalker.cocolog-nifty.com/.shared-cocolog/nifty_managed/images/web/ogp/default.png', 'publishedAt': '2022-05-06T15:01:00Z', 'content': '(adsbygoogle = window.adsbygoogle || []).push({ google_ad_client: \"ca-pub-7186741224709017\", enable_page_level_ads: true });(adsbygoogle = window.adsbygoogle || []).push({});日経\\u3000マネーのまなびさん。投資や資産形成…\\u3000お金の… [+15685 chars]'}, {'source': {'id': None, 'name': 'Shinobi.jp'}, 'author': None, 'title': '2022/05/07 (2)', 'description': '●協同教育研究会 （編）『熊本県・熊本市の論作文・面接過去問 ’２３年度版 （熊本県の教員採用試験過去問シリーズ）』（協同出版）\\n●協同教育研究会 （編）『長崎県の論作文・面接過去問 ’２３年度版 （長崎県の教員採用試験過去問シリーズ）』（協同出版）\\n●『筑波大学附属高等学校 ２０２３ （高校別入試過去問題シリーズ PREMIUM SERIES）』（東京学参）\\n●『国際基督教大学高等学校 ２０２３ （高校別入試過去問題シリーズ PREMIUM SERIES）』（東京学参）\\n●『慶應義塾志木高等学校 ２０２３ （高…', 'url': 'http://matsu23.blog.shinobi.jp/%E6%9C%AA%E9%81%B8%E6%8A%9E/2022-05-07%20-2-', 'urlToImage': None, 'publishedAt': '2022-05-06T15:00:00Z', 'content': '’ ’ PREMIUM SERIES PREMIUM SERIES PREMIUM SERIES PREMIUM SERIES20222023 MyTokyoDisneyResort20222023 MyTokyoDisneyResort 3 3 R 8 2 2 , , 11 11 8 8 88 88 7 3 3 19 19 , 36 36 14 14 13 13 8 8 2 2 4 4 1 1… [+653 chars]'}, {'source': {'id': None, 'name': 'Www.2nn.jp'}, 'author': '田杉山脈 ★', 'title': '【航空】JAL、最終赤字1775億円…オミクロン株急拡大で国内の旅客需要落ち込む', 'description': '日本航空が6日発表した2022年3月期連結決算(国際会計基準)は、最終利益が1775億円の赤字(前期は2866億円の赤字)となった。最終赤字は2期連続で、年明けに新型コロナの変異株「オミクロン株」が急拡大したことで国内...https://egg.5ch.net/test/read.cgi/bizplus/1651838388/', 'url': 'https://www.2nn.jp/bizplus/1651838388/', 'urlToImage': 'http://www.2nn.jp/img/og/default.png', 'publishedAt': '2022-05-06T11:59:48Z', 'content': '620223()1775(2866)2419%6827'}, {'source': {'id': None, 'name': 'Goo.ne.jp'}, 'author': None, 'title': '大阪カジノの皮算用。毎年ＵＳＪの最高記録より多い入場者が来て、東京ディズニーランドの２倍以上のお金を使わないと達成できない目標。絶対無理なので大阪府の住民投票運動を成功させよう！', 'description': 'これからもぜひ一日一回、上下ともクリックしてくださると大変うれしいです！！！\\n\\n\\nにほんブログ村\\n社会・経済ニュースランキング\\nAmazon\\u3000社会・政治・法律\\nAmazon\\u3000Kindle\\u3000ベストセラー\\n\\xa0\\n\\xa0\\n\\u30002022年4月27日、大阪府がカジノを中核とする統合型リゾート施設（ＩＲ）誘致に向けた「区域整備計画」を国に申請し、受理されました。\\n\\u3000カジノ、劇場、美術館、レストランを併設する巨大施設で、ホテル一つとっても総客室数は2,375～2,760室国内第2位の客室数を誇るホテルを作ることになっています。\\n\\u3000大阪…', 'url': 'https://blog.goo.ne.jp/raymiyatake/e/fd4f230baa48cb696bb577096011cfbd', 'urlToImage': 'https://blogimg.goo.ne.jp/user_image/13/3d/1987a0d14c2ec031b73893ad51569742.jpg', 'publishedAt': '2022-05-06T09:02:32Z', 'content': 'IR428IR\\r\\n32429\\r\\nMGMIR\\r\\nIR2550115AERAdot322MGMIR\\r\\n3MICEMeetingIncentiveTravelConventionExhibitionMICE\\r\\n20213IR\\r\\nIR\\r\\n201131978\\r\\nIRIR20215\\r\\n2021629\\r\\n79041036020\\r\\n790\\r\\nIR\\r\\n201720201\\r\\nIR20213\\r\\nIR\\r\\nIR\\r\\n3\\r\\n… [+69 chars]'}, {'source': {'id': None, 'name': 'Cocolog-nifty.com'}, 'author': 'NightWalker', 'title': '投資の話は誰とする？', 'description': '東証マネ部さん。\\n\\n投資の話は誰とする？\\n...', 'url': 'http://nightwalker.cocolog-nifty.com/money/2022/05/post-b1736b.html', 'urlToImage': 'https://nightwalker.cocolog-nifty.com/money/images/20220506.png', 'publishedAt': '2022-05-05T15:01:00Z', 'content': '(adsbygoogle = window.adsbygoogle || []).push({ google_ad_client: \"ca-pub-7186741224709017\", enable_page_level_ads: true });(adsbygoogle = window.adsbygoogle || []).push({});東証マネ部さん。投資の話は誰とする？Q. 投資に関… [+15898 chars]'}, {'source': {'id': None, 'name': 'Cnn.co.jp'}, 'author': '翻訳：CNN.co.jp編集部', 'title': '南アで再びコロナ感染拡大、米専門家が注視', 'description': '南アフリカで新型コロナウイルスの症例数が急増し、米国の公衆衛生専門家が状況を注視している。過去の感染によって獲得した免疫がどう影響するかを見極めたい意向だ。\\n\\n南アフリカでは昨年、新型コロナウイルスのオミクロン変異株が初めて発見され、世界的な連鎖反応を引き起こした。１２月に感染拡大のピークを過ぎると南アフリカの症例数は減少したが、今回、再び増加に転じ、陽性率や入院数も増えて、同国は感染の第５波に...', 'url': 'https://www.cnn.co.jp/world/35187103.html', 'urlToImage': 'https://www.cnn.co.jp/storage/2022/05/05/34d150a24c6541435ac9b0bdbcf99279/t/768/432/d/coronavirus-newsletter-south-africa-super-169.jpg', 'publishedAt': '2022-05-05T03:30:00Z', 'content': '/Waldo Swiegers/Bloomberg/Getty Images'}, {'source': {'id': None, 'name': 'Shinobi.jp'}, 'author': None, 'title': '連続テレビ小説「ちむどんどん」〔全120回〕 （第19回・2022/5/5） 感想', 'description': 'NHK総合・連続テレビ小説『ちむどんどん』 \\n公式リンク：Website、Twitter、Instagram \\n第19回〔全120回〕／第4週『青春ナポリタン』の感想。\\n\\xa0\\n※\\xa0毎日毎日の感想なので、私の気分も山あり谷ありです。ご理解を。\\n※\\xa0また、称賛、絶賛の感想だけをご希望の方は読まない方が良いです。\\n\\n暢子（黒島結菜）たち料理部の参加する大会が始まる。暢子のアイディアの沖縄そばで、ライバル校の料理部としのぎを削る。ところが、大会の途中、思わぬハプニングに見舞われて、暢子たちは大ピンチに陥る…。姉・良子（川口…', 'url': 'http://director.blog.shinobi.jp/Entry/16810/', 'urlToImage': 'http://blog.cnobi.jp/v1/blog/user/08129a6aa5c0172a4540c0e91490e391/1649039224', 'publishedAt': '2022-05-05T00:50:44Z', 'content': '202205(18)\\r\\n202204(87)\\r\\n202203(102)\\r\\n202202(86)\\r\\n202201(98)\\r\\n202112(111)\\r\\n202111(146)\\r\\n202110(141)\\r\\n202109(103)\\r\\n202108(105)\\r\\n202107(100)\\r\\n202106(114)\\r\\n202105(128)\\r\\n202104(114)\\r\\n202103(121)\\r\\n202102(1… [+2028 chars]'}, {'source': {'id': None, 'name': 'Cocolog-nifty.com'}, 'author': 'NightWalker', 'title': '自分が早期リタイア向き体質なのかについてほんのちょっとだけ考えた時の話', 'description': '昨日のエントリーの３つめの課題、「70歳現役社会→周りと比べて...', 'url': 'http://nightwalker.cocolog-nifty.com/money/2022/05/post-9df9ed.html', 'urlToImage': 'http://nightwalker.cocolog-nifty.com/.shared-cocolog/nifty_managed/images/web/ogp/default.png', 'publishedAt': '2022-05-04T15:01:00Z', 'content': '(adsbygoogle = window.adsbygoogle || []).push({ google_ad_client: \"ca-pub-7186741224709017\", enable_page_level_ads: true });(adsbygoogle = window.adsbygoogle || []).push({});昨日のエントリーの３つめの課題、「70歳現役社会→… [+16111 chars]'}, {'source': {'id': None, 'name': 'Fc2.com'}, 'author': 'どぉりゃ', 'title': '【新型コロナ】ステルスオミクロンよりも拡散スピードが速い変異株、韓国で見つかる', 'description': '「ステルスオミクロン」と呼ばれるＢＡ．２よりも拡散スピードが２０％以上速いと言われているオミクロンの細部系統変異株「ＢＡ．２．１２．１」が韓国で初めて確認された。 ソース：https://japanese.joins.com/JArticle/290642...', 'url': 'http://fxya.blog129.fc2.com/blog-entry-73269.html', 'urlToImage': 'https://blog-imgs-93.fc2.com/f/x/y/fxya/20160906154319185.png', 'publishedAt': '2022-05-04T13:30:00Z', 'content': 'Ikh 2022/05/03() 18:13:01.71 ID:CAP_USER\\xa02022.05.03 14:59https://japanese.joins.com/JArticle/290642\\r\\n&lt;´&gt;´´ 2022/05/03() 18:17:54.36 ID:rw3i45WP&lt;´&gt;´´ 2022/05/03() 18:23:18.26 ID:iGUSm68E&l… [+392 chars]'}, {'source': {'id': None, 'name': 'Cocolog-nifty.com'}, 'author': 'NightWalker', 'title': 'サラリーマンが早期リタイアする場合の年金についてどう考えるか？', 'description': '先日ご紹介した晋遊舎さんのムック本の巻頭特集には、日本版FIR...', 'url': 'http://nightwalker.cocolog-nifty.com/money/2022/05/post-6ab340.html', 'urlToImage': 'http://nightwalker.cocolog-nifty.com/.shared-cocolog/nifty_managed/images/web/ogp/default.png', 'publishedAt': '2022-05-03T15:01:00Z', 'content': '(adsbygoogle = window.adsbygoogle || []).push({ google_ad_client: \"ca-pub-7186741224709017\", enable_page_level_ads: true });(adsbygoogle = window.adsbygoogle || []).push({});先日ご紹介した晋遊舎さんのムック本の巻頭特集には、… [+16198 chars]'}, {'source': {'id': None, 'name': 'Www.2nn.jp'}, 'author': 'Ikh ★', 'title': '【新型コロナ】ステルスオミクロンよりも拡散スピードが速い変異株、韓国で見つかる', 'description': '「ステルスオミクロン」と呼ばれるBA.2よりも拡散スピードが20%以上速いと言われているオミクロンの細部系統変異株「BA.2.12.1」が韓国で初めて確認された。韓国中央防疫対策本部は3日、記者会見でオミクロン株「BA....https://lavender.5ch.net/test/read.cgi/news4plus/1651569181/', 'url': 'https://www.2nn.jp/news4plus/1651569181/', 'urlToImage': 'http://www.2nn.jp/img/og/default.png', 'publishedAt': '2022-05-03T09:13:01Z', 'content': 'BA.220%BA.2.12.13BA.2.12.11BA.2.12.116503'}, {'source': {'id': None, 'name': 'Cocolog-nifty.com'}, 'author': 'NightWalker', 'title': '年金繰り下げ後の一括受給は原則なしと思っておいた方がいいかもという話。', 'description': 'Diamond Online\\u3000深田晶恵さん。\\n\\n年金繰り下げで...', 'url': 'http://nightwalker.cocolog-nifty.com/money/2022/05/post-88989e.html', 'urlToImage': 'http://nightwalker.cocolog-nifty.com/.shared-cocolog/nifty_managed/images/web/ogp/default.png', 'publishedAt': '2022-05-02T15:01:00Z', 'content': '(adsbygoogle = window.adsbygoogle || []).push({ google_ad_client: \"ca-pub-7186741224709017\", enable_page_level_ads: true });(adsbygoogle = window.adsbygoogle || []).push({});Diamond Online\\u3000深田晶恵さん。年金繰… [+15863 chars]'}, {'source': {'id': None, 'name': 'Nhk.or.jp'}, 'author': None, 'title': '新型コロナ 変異ウイルス「XE」検疫で感染確認 国内では2人目', 'description': '先月、アメリカから羽田空港に到着した男性が、新型コロナの2種類のオミクロン株が組み合わさった「XE」と呼ばれる変異ウイルスに感染していたことが分かりました。「XE」への感染が国内で確認されたのは2人目です。', 'url': 'https://www3.nhk.or.jp/news/html/20220502/k10013609681000.html', 'urlToImage': 'https://www3.nhk.or.jp/news/html/20220502/K10013609681_2205021914_0502195816_01_02.jpg', 'publishedAt': '2022-05-02T10:58:16Z', 'content': '2XEXE2\\r\\nXE6BA.1BA.2BA.212.6\\r\\n1650XE\\r\\n23\\r\\n3XE\\r\\nXE'}, {'source': {'id': None, 'name': 'Cocolog-nifty.com'}, 'author': 'NightWalker', 'title': '各資産クラスのパフォーマンスを定点観測してみる\\u30002022/4', 'description': '先月から始めました。今月の各資産クラスのパフォーマンスの定点観...', 'url': 'http://nightwalker.cocolog-nifty.com/money/2022/05/post-487cc4.html', 'urlToImage': 'https://nightwalker.cocolog-nifty.com/money/images/202205021.png', 'publishedAt': '2022-05-01T15:01:00Z', 'content': '(adsbygoogle = window.adsbygoogle || []).push({ google_ad_client: \"ca-pub-7186741224709017\", enable_page_level_ads: true });(adsbygoogle = window.adsbygoogle || []).push({});先月から始めました。今月の各資産クラスのパフォーマ… [+15846 chars]'}, {'source': {'id': None, 'name': 'Cocolog-nifty.com'}, 'author': 'NightWalker', 'title': '最近、よく読まれている記事\\u30002022年2月-4月版', 'description': '最近、よく読まれている記事\\u30002022年2月-4月版です。直近3...', 'url': 'http://nightwalker.cocolog-nifty.com/money/2022/04/post-06266a.html', 'urlToImage': 'http://nightwalker.cocolog-nifty.com/.shared-cocolog/nifty_managed/images/web/ogp/default.png', 'publishedAt': '2022-04-30T15:01:00Z', 'content': '(adsbygoogle = window.adsbygoogle || []).push({ google_ad_client: \"ca-pub-7186741224709017\", enable_page_level_ads: true });(adsbygoogle = window.adsbygoogle || []).push({});最近、よく読まれている記事\\u30002022年2月-4月版… [+18038 chars]'}]}\n"
     ]
    }
   ],
   "source": [
    "print(response.json())"
   ]
  },
  {
   "cell_type": "code",
   "execution_count": 22,
   "id": "a2d3ee2e",
   "metadata": {},
   "outputs": [
    {
     "name": "stdout",
     "output_type": "stream",
     "text": [
      "totalResults: 52\n",
      "             publishedAt                     title                       url\n",
      "0   2022-05-09T04:42:01Z  【研究】コロナへの感染によって体の老化が加...  https://www.2nn.jp/ne...\n",
      "1   2022-05-09T03:00:00Z                 日本政治の最大危機  http://uekusak.cocolo...\n",
      "2   2022-05-08T15:01:00Z  早期リタイアするタイミングを雇用保険の観点...  http://nightwalker.co...\n",
      "3   2022-05-08T07:11:30Z  【まだ間に合う！】大阪カジノの是非を問う大...  https://blog.goo.ne.j...\n",
      "4   2022-05-07T15:01:00Z  つみたてNISA対象インデックファンドの勝...  http://nightwalker.co...\n",
      "5   2022-05-06T15:01:00Z   金融教育で大切なことってなんだろう、という話。  http://nightwalker.co...\n",
      "6   2022-05-06T15:00:00Z            2022/05/07 (2)  http://matsu23.blog.s...\n",
      "7   2022-05-06T11:59:48Z  【航空】JAL、最終赤字1775億円…オミ...  https://www.2nn.jp/bi...\n",
      "8   2022-05-06T09:02:32Z  大阪カジノの皮算用。毎年ＵＳＪの最高記録よ...  https://blog.goo.ne.j...\n",
      "9   2022-05-05T15:01:00Z                投資の話は誰とする？  http://nightwalker.co...\n",
      "10  2022-05-05T03:30:00Z      南アで再びコロナ感染拡大、米専門家が注視  https://www.cnn.co.jp...\n",
      "11  2022-05-05T00:50:44Z  連続テレビ小説「ちむどんどん」〔全120回...  http://director.blog....\n",
      "12  2022-05-04T15:01:00Z  自分が早期リタイア向き体質なのかについてほ...  http://nightwalker.co...\n",
      "13  2022-05-04T13:30:00Z  【新型コロナ】ステルスオミクロンよりも拡散...  http://fxya.blog129.f...\n",
      "14  2022-05-03T15:01:00Z  サラリーマンが早期リタイアする場合の年金に...  http://nightwalker.co...\n",
      "15  2022-05-03T09:13:01Z  【新型コロナ】ステルスオミクロンよりも拡散...  https://www.2nn.jp/ne...\n",
      "16  2022-05-02T15:01:00Z  年金繰り下げ後の一括受給は原則なしと思って...  http://nightwalker.co...\n",
      "17  2022-05-02T10:58:16Z  新型コロナ 変異ウイルス「XE」検疫で感染...  https://www3.nhk.or.j...\n",
      "18  2022-05-01T15:01:00Z  各資産クラスのパフォーマンスを定点観測して...  http://nightwalker.co...\n",
      "19  2022-04-30T15:01:00Z  最近、よく読まれている記事　2022年2月...  http://nightwalker.co...\n"
     ]
    }
   ],
   "source": [
    "import pandas as pd\n",
    "pd.options.display.max_colwidth = 25\n",
    "\n",
    "if response.ok:\n",
    "    data = response.json()\n",
    "    df = pd.DataFrame(data['articles'])\n",
    "    print('totalResults:', data['totalResults'])\n",
    "\n",
    "print(df[[ 'publishedAt', 'title', 'url']])"
   ]
  },
  {
   "cell_type": "code",
   "execution_count": null,
   "id": "7538cc0b",
   "metadata": {},
   "outputs": [],
   "source": []
  }
 ],
 "metadata": {
  "kernelspec": {
   "display_name": "Python 3 (ipykernel)",
   "language": "python",
   "name": "python3"
  },
  "language_info": {
   "codemirror_mode": {
    "name": "ipython",
    "version": 3
   },
   "file_extension": ".py",
   "mimetype": "text/x-python",
   "name": "python",
   "nbconvert_exporter": "python",
   "pygments_lexer": "ipython3",
   "version": "3.9.7"
  }
 },
 "nbformat": 4,
 "nbformat_minor": 5
}
