{
 "cells": [
  {
   "cell_type": "markdown",
   "id": "eac8eea3",
   "metadata": {},
   "source": [
    "# ニューラルネットワーク"
   ]
  },
  {
   "cell_type": "markdown",
   "id": "c5682310",
   "metadata": {},
   "source": [
    "ニューラルネットワークを図で表すと、左の列を入力層、中間の列を中間層（隠れ層）、一番右の層を出力層と呼ぶ。\n"
   ]
  },
  {
   "cell_type": "markdown",
   "id": "4edc9768",
   "metadata": {},
   "source": [
    "h(x)={0(x=<0),1(x>0)} バイアスは此のように式で表せる"
   ]
  },
  {
   "cell_type": "markdown",
   "id": "4ae96fe8",
   "metadata": {},
   "source": [
    "このような入力信号の総和を出力信号に変換する関数を活性化関数と呼ぶ。"
   ]
  },
  {
   "cell_type": "markdown",
   "id": "03d81bdc",
   "metadata": {},
   "source": [
    "またニューラルネットワークではシグモイド関数がよく用いられる。\n",
    "h(x)=1/1+exp(-x)"
   ]
  },
  {
   "cell_type": "markdown",
   "id": "2492b12a",
   "metadata": {},
   "source": [
    "ステップ関数をグラフで表してみる"
   ]
  },
  {
   "cell_type": "code",
   "execution_count": 11,
   "id": "704bbd55",
   "metadata": {},
   "outputs": [
    {
     "data": {
      "image/png": "[encoded data removed]",
      "text/plain": [
       "<Figure size 432x288 with 1 Axes>"
      ]
     },
     "metadata": {
      "needs_background": "light"
     },
     "output_type": "display_data"
    }
   ],
   "source": [
    "import numpy as np\n",
    "import matplotlib.pylab as plt\n",
    "\n",
    "def step_function(x):\n",
    "    return np.array(x>0,dtype=int) \n",
    "\n",
    "x=np.arange(-5.0,5.0,0.1)\n",
    "y=step_function(x)\n",
    "plt.plot(x,y)\n",
    "plt.ylim(-0.1,1.1) #y軸の範囲を指定\n",
    "plt.show()"
   ]
  },
  {
   "cell_type": "markdown",
   "id": "711d492f",
   "metadata": {},
   "source": [
    "次にシグモイド関数を実装してみる"
   ]
  },
  {
   "cell_type": "code",
   "execution_count": 27,
   "id": "97e5251d",
   "metadata": {},
   "outputs": [
    {
     "data": {
      "image/png": "[encoded data removed]",
      "text/plain": [
       "<Figure size 432x288 with 1 Axes>"
      ]
     },
     "metadata": {
      "needs_background": "light"
     },
     "output_type": "display_data"
    }
   ],
   "source": [
    "def sigmoid(x):\n",
    "    return 1 / (1+np.exp(-x)) \n",
    "\n",
    "x=np.arange(-5.0,5.0,0.1)\n",
    "y=sigmoid(x)\n",
    "plt.plot(x,y)\n",
    "plt.ylim(-0.1,1.1) #y軸の範囲を指定\n",
    "plt.show()"
   ]
  },
  {
   "cell_type": "markdown",
   "id": "62c20447",
   "metadata": {},
   "source": [
    "２つを見比べてみると入力に対して連続的に出力が変化するかなどの差があるが、大きな視点で見ると同じような形をしていることがわかる。\n",
    "両者はともに非線形関数である。"
   ]
  },
  {
   "cell_type": "markdown",
   "id": "b93ce564",
   "metadata": {},
   "source": [
    "つぎに最近用いられているReLU関数を用いてみる"
   ]
  },
  {
   "cell_type": "code",
   "execution_count": 32,
   "id": "09b523cf",
   "metadata": {},
   "outputs": [
    {
     "data": {
      "image/png": "[encoded data removed]",
      "text/plain": [
       "<Figure size 432x288 with 1 Axes>"
      ]
     },
     "metadata": {
      "needs_background": "light"
     },
     "output_type": "display_data"
    }
   ],
   "source": [
    "def relu(x):\n",
    "    return np.maximum(0,x)\n",
    "\n",
    "x=np.arange(-5.0,5.0,0.1)\n",
    "y=relu(x)\n",
    "plt.plot(x,y)\n",
    "plt.ylim(-1.0,5.5) #y軸の範囲を指定\n",
    "plt.show()"
   ]
  },
  {
   "cell_type": "markdown",
   "id": "1226a101",
   "metadata": {},
   "source": [
    "入力が０を超えていればその入力をそのまま出力し、０以下ならば０を出力する関数であることがわかる"
   ]
  },
  {
   "cell_type": "markdown",
   "id": "e79d019a",
   "metadata": {},
   "source": [
    "次に多次元配列の計算を行う　前に解いた行列のプリントを思い出す　\n",
    "まずは一次元から"
   ]
  },
  {
   "cell_type": "code",
   "execution_count": 37,
   "id": "58016296",
   "metadata": {},
   "outputs": [
    {
     "name": "stdout",
     "output_type": "stream",
     "text": [
      "[1 2 3 4]\n"
     ]
    },
    {
     "data": {
      "text/plain": [
       "4"
      ]
     },
     "execution_count": 37,
     "metadata": {},
     "output_type": "execute_result"
    }
   ],
   "source": [
    "import numpy as np\n",
    "A=np.array([1,2,3,4])\n",
    "print(A)\n",
    "[1,2,3,4]\n",
    "np.ndim(A)\n",
    "1\n",
    "A.shape\n",
    "(4,)\n",
    "A.shape[0]\n",
    "4"
   ]
  },
  {
   "cell_type": "markdown",
   "id": "8ac647c1",
   "metadata": {},
   "source": [
    "続いて二次元"
   ]
  },
  {
   "cell_type": "code",
   "execution_count": 41,
   "id": "3273843a",
   "metadata": {},
   "outputs": [
    {
     "name": "stdout",
     "output_type": "stream",
     "text": [
      "[[1 2]\n",
      " [3 4]\n",
      " [5 6]]\n"
     ]
    },
    {
     "data": {
      "text/plain": [
       "(3, 2)"
      ]
     },
     "execution_count": 41,
     "metadata": {},
     "output_type": "execute_result"
    }
   ],
   "source": [
    "B=np.array([[1,2],[3,4],[5,6]])\n",
    "print(B)\n",
    "#エラー吐くので省く\n",
    "np.ndim(B)\n",
    "2\n",
    "B.shape\n",
    "(3,2)"
   ]
  },
  {
   "cell_type": "markdown",
   "id": "0dc740f3",
   "metadata": {},
   "source": [
    "行列の積の計算"
   ]
  },
  {
   "cell_type": "code",
   "execution_count": 43,
   "id": "cf0499d1",
   "metadata": {},
   "outputs": [
    {
     "data": {
      "text/plain": [
       "array([23, 53, 83])"
      ]
     },
     "execution_count": 43,
     "metadata": {},
     "output_type": "execute_result"
    }
   ],
   "source": [
    "A=np.array([[1,2],[3,4],[5,6]])\n",
    "A.shape\n",
    "B=np.array([7,8])\n",
    "B.shape\n",
    "np.dot(A,B)"
   ]
  },
  {
   "cell_type": "markdown",
   "id": "200bb34d",
   "metadata": {},
   "source": [
    "ニューラルネットワークの行列の積"
   ]
  },
  {
   "cell_type": "code",
   "execution_count": 49,
   "id": "94f41827",
   "metadata": {},
   "outputs": [
    {
     "name": "stdout",
     "output_type": "stream",
     "text": [
      "[ 5 11 17]\n"
     ]
    }
   ],
   "source": [
    "X=np.array([1,2])\n",
    "W=np.array([[1,3,5],[2,4,6]])\n",
    "Y=np.dot(X,W)\n",
    "print(Y)"
   ]
  },
  {
   "cell_type": "markdown",
   "id": "60bd975e",
   "metadata": {},
   "source": [
    "３層ニューラルネットワークの実装"
   ]
  },
  {
   "cell_type": "code",
   "execution_count": 52,
   "id": "00a46bc4",
   "metadata": {},
   "outputs": [
    {
     "name": "stdout",
     "output_type": "stream",
     "text": [
      "[0.3 0.7 1.1]\n",
      "[0.57444252 0.66818777 0.75026011]\n"
     ]
    }
   ],
   "source": [
    "x=np.array([1.0,0.5])\n",
    "w1=np.array([[0.1,0.3,0.5],[0.2,0.4,0.6]])\n",
    "b1=np.array([0.1,0.2,0.3])\n",
    "\n",
    "a1=np.dot(x,w1)+b1\n",
    "\n",
    "z1=sigmoid(a1)\n",
    "\n",
    "print(a1)\n",
    "print(z1)"
   ]
  },
  {
   "cell_type": "code",
   "execution_count": 56,
   "id": "1c895295",
   "metadata": {},
   "outputs": [
    {
     "name": "stdout",
     "output_type": "stream",
     "text": [
      "[0.62624937 0.7710107 ]\n"
     ]
    }
   ],
   "source": [
    "w2=np.array([[0.1,0.4],[0.2,0.5],[0.3,0.6]])\n",
    "b2=np.array([0.1,0.2])\n",
    "\n",
    "a2=np.dot(z1,w2)+b2\n",
    "z2=sigmoid(a2)\n",
    "print(z2)"
   ]
  },
  {
   "cell_type": "markdown",
   "id": "40ce58b2",
   "metadata": {},
   "source": [
    "最後の層では活性化関数だけがこれまでの隠れそうと異なる"
   ]
  },
  {
   "cell_type": "code",
   "execution_count": 58,
   "id": "e53f934f",
   "metadata": {},
   "outputs": [
    {
     "name": "stdout",
     "output_type": "stream",
     "text": [
      "[0.31682708 0.69627909]\n"
     ]
    }
   ],
   "source": [
    "def identity_function(x):\n",
    "    return x\n",
    "\n",
    "w3=np.array([[0.1,0.3],[0.2,0.4]])\n",
    "b3=np.array([0.1,0.2])\n",
    "\n",
    "a3=np.dot(z2,w3)+b3\n",
    "y=identity_function(a3)\n",
    "print(y)"
   ]
  },
  {
   "cell_type": "markdown",
   "id": "7ce90cdf",
   "metadata": {},
   "source": [
    "ここまで行った実装をまとめて書いてみるとこうなる"
   ]
  },
  {
   "cell_type": "code",
   "execution_count": 60,
   "id": "1c87789a",
   "metadata": {},
   "outputs": [
    {
     "name": "stdout",
     "output_type": "stream",
     "text": [
      "[0.31682708 0.69627909]\n"
     ]
    }
   ],
   "source": [
    "def init_network(): \n",
    "    network={}\n",
    "    network['w1']=np.array([[0.1,0.3,0.5],[0.2,0.4,0.6]])\n",
    "    network['b1']=np.array([0.1,0.2,0.3])\n",
    "    network['w2']=np.array([[0.1,0.4],[0.2,0.5],[0.3,0.6]])\n",
    "    network['b2']=np.array([0.1,0.2])\n",
    "    network['w3']=np.array([[0.1,0.3],[0.2,0.4]])\n",
    "    network['b3']=np.array([0.1,0.2])\n",
    "    \n",
    "    return network\n",
    "\n",
    "def forward(network,X): \n",
    "    w1,w2,w3=network['w1'],network['w2'],network['w3']\n",
    "    b1,b2,b3=network['b1'],network['b2'],network['b3']\n",
    "    \n",
    "    a1=np.dot(x,w1)+b1\n",
    "    z1=sigmoid(a1)\n",
    "    a2=np.dot(z1,w2)+b2\n",
    "    z2=sigmoid(a2)\n",
    "    a3=np.dot(z2,w3)+b3\n",
    "    y=identity_function(a3)\n",
    "    \n",
    "    return y\n",
    "\n",
    "network=init_network()\n",
    "x=np.array([1.0,0.5])\n",
    "y=forward(network,x)\n",
    "print(y)"
   ]
  },
  {
   "cell_type": "markdown",
   "id": "781b6432",
   "metadata": {},
   "source": [
    "# 手書き数字識別"
   ]
  },
  {
   "cell_type": "markdown",
   "id": "a06c62cb",
   "metadata": {},
   "source": [
    "ここまでニューラルネットワークの仕組みをまなんだところで、実践的な問題に取り組んでみる。\n"
   ]
  },
  {
   "cell_type": "code",
   "execution_count": 76,
   "id": "d8ecd839",
   "metadata": {},
   "outputs": [
    {
     "ename": "ModuleNotFoundError",
     "evalue": "No module named 'dataset'",
     "output_type": "error",
     "traceback": [
      "\u001b[1;31m---------------------------------------------------------------------------\u001b[0m",
      "\u001b[1;31mModuleNotFoundError\u001b[0m                       Traceback (most recent call last)",
      "\u001b[1;32m~\\AppData\\Local\\Temp/ipykernel_17576/682963377.py\u001b[0m in \u001b[0;36m<module>\u001b[1;34m\u001b[0m\n\u001b[0;32m      1\u001b[0m \u001b[1;32mimport\u001b[0m \u001b[0msys\u001b[0m\u001b[1;33m,\u001b[0m \u001b[0mos\u001b[0m\u001b[1;33m\u001b[0m\u001b[1;33m\u001b[0m\u001b[0m\n\u001b[0;32m      2\u001b[0m \u001b[0msys\u001b[0m\u001b[1;33m.\u001b[0m\u001b[0mpath\u001b[0m\u001b[1;33m.\u001b[0m\u001b[0mappend\u001b[0m\u001b[1;33m(\u001b[0m\u001b[0mos\u001b[0m\u001b[1;33m.\u001b[0m\u001b[0mpardir\u001b[0m\u001b[1;33m)\u001b[0m \u001b[1;31m#親ディレクトリのファイルをインポートするための設定\u001b[0m\u001b[1;33m\u001b[0m\u001b[1;33m\u001b[0m\u001b[0m\n\u001b[1;32m----> 3\u001b[1;33m \u001b[1;32mfrom\u001b[0m \u001b[0mdataset\u001b[0m\u001b[1;33m.\u001b[0m\u001b[0mmnist\u001b[0m \u001b[1;32mimport\u001b[0m \u001b[0mload_mnist\u001b[0m\u001b[1;33m\u001b[0m\u001b[1;33m\u001b[0m\u001b[0m\n\u001b[0m\u001b[0;32m      4\u001b[0m \u001b[1;33m(\u001b[0m\u001b[0mx_train\u001b[0m\u001b[1;33m,\u001b[0m\u001b[0mt_train\u001b[0m\u001b[1;33m)\u001b[0m\u001b[1;33m,\u001b[0m\u001b[1;33m(\u001b[0m\u001b[0mx_test\u001b[0m\u001b[1;33m,\u001b[0m\u001b[0mt_test\u001b[0m\u001b[1;33m)\u001b[0m\u001b[1;33m=\u001b[0m\u001b[0;31m\\\u001b[0m\u001b[1;33m\u001b[0m\u001b[1;33m\u001b[0m\u001b[0m\n\u001b[0;32m      5\u001b[0m     \u001b[0mload_mnist\u001b[0m\u001b[1;33m(\u001b[0m\u001b[0mflatten\u001b[0m\u001b[1;33m=\u001b[0m\u001b[1;32mTrue\u001b[0m\u001b[1;33m,\u001b[0m\u001b[0mnormalize\u001b[0m\u001b[1;33m=\u001b[0m\u001b[1;32mFalse\u001b[0m\u001b[1;33m)\u001b[0m\u001b[1;33m\u001b[0m\u001b[1;33m\u001b[0m\u001b[0m\n",
      "\u001b[1;31mModuleNotFoundError\u001b[0m: No module named 'dataset'"
     ]
    }
   ],
   "source": [
    "import sys, os\n",
    "sys.path.append(os.pardir) #親ディレクトリのファイルをインポートするための設定\n",
    "from dataset.mnist import load_mnist\n",
    "(x_train,t_train),(x_test,t_test)=\\\n",
    "    load_mnist(flatten=True,normalize=False)"
   ]
  },
  {
   "cell_type": "code",
   "execution_count": null,
   "id": "39cb0f28",
   "metadata": {},
   "outputs": [],
   "source": []
  }
 ],
 "metadata": {
  "kernelspec": {
   "display_name": "Python 3 (ipykernel)",
   "language": "python",
   "name": "python3"
  },
  "language_info": {
   "codemirror_mode": {
    "name": "ipython",
    "version": 3
   },
   "file_extension": ".py",
   "mimetype": "text/x-python",
   "name": "python",
   "nbconvert_exporter": "python",
   "pygments_lexer": "ipython3",
   "version": "3.9.7"
  }
 },
 "nbformat": 4,
 "nbformat_minor": 5
}
